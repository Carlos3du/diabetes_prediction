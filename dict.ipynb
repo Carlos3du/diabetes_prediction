{
 "cells": [
  {
   "cell_type": "markdown",
   "id": "2f05d2cc",
   "metadata": {},
   "source": [
    "| Feature               | Description                                                                 |\n",
    "|-----------------------|-----------------------------------------------------------------------------|\n",
    "| battery_power         | Total energy a battery can store in one time measured in mAh               |\n",
    "| blue                  | Has bluetooth or not                                                      |\n",
    "| clock_speed           | Speed at which microprocessor executes instructions                        |\n",
    "| dual_sim              | Has dual sim support or not                                               |\n",
    "| fc                    | Front Camera mega pixels                                                  |\n",
    "| four_g                | Has 4G or not                                                             |\n",
    "| int_memory            | Internal Memory in Gigabytes                                              |\n",
    "| m_dep                 | Mobile Depth in cm                                                        |\n",
    "| mobile_wt             | Weight of mobile phone                                                    |\n",
    "| n_cores               | Number of cores of processor                                              |\n",
    "| pc                    | Primary Camera mega pixels                                                |\n",
    "| px_height             | Pixel Resolution Height                                                   |\n",
    "| px_width              | Pixel Resolution Width                                                    |\n",
    "| ram                   | Random Access Memory in Mega Bytes                                        |\n",
    "| sc_h                  | Screen Height of mobile in cm                                             |\n",
    "| sc_w                  | Screen Width of mobile in cm                                              |\n",
    "| talk_time             | Longest time that a single battery charge will last when you are          |\n",
    "| three_g               | Has 3G or not                                                             |\n",
    "| touch_screen          | Has touch screen or not                                                   |\n",
    "| wifi                  | Has wifi or not                                                           |\n",
    "| price_range           | Target variable: 0 (low cost), 1 (medium cost), 2 (high cost), 3 (very high cost) |\n"
   ]
  }
 ],
 "metadata": {
  "language_info": {
   "name": "python"
  }
 },
 "nbformat": 4,
 "nbformat_minor": 5
}
